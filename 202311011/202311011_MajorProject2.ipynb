{
  "cells": [
    {
      "cell_type": "markdown",
      "metadata": {
        "id": "view-in-github",
        "colab_type": "text"
      },
      "source": [
        "<a href=\"https://colab.research.google.com/github/ParshwaDand07/Course_Project_2/blob/main/202311011/202311011_MajorProject2.ipynb\" target=\"_parent\"><img src=\"https://colab.research.google.com/assets/colab-badge.svg\" alt=\"Open In Colab\"/></a>"
      ]
    },
    {
      "cell_type": "markdown",
      "source": [
        "# Performing Multiclass classification for predicting risk of mortality"
      ],
      "metadata": {
        "id": "ktyqYVy8hF_Z"
      }
    },
    {
      "cell_type": "code",
      "execution_count": 1,
      "metadata": {
        "execution": {
          "iopub.execute_input": "2023-10-25T14:13:27.031723Z",
          "iopub.status.busy": "2023-10-25T14:13:27.031328Z",
          "iopub.status.idle": "2023-10-25T14:13:27.037626Z",
          "shell.execute_reply": "2023-10-25T14:13:27.036439Z",
          "shell.execute_reply.started": "2023-10-25T14:13:27.031694Z"
        },
        "id": "BV51I22uVVJ6"
      },
      "outputs": [],
      "source": [
        "import numpy as np\n",
        "import pandas as pd\n",
        "import matplotlib.pyplot as plt\n",
        "import numpy as np\n",
        "import seaborn as sns\n",
        "from sklearn import preprocessing"
      ]
    },
    {
      "cell_type": "code",
      "execution_count": 2,
      "metadata": {
        "execution": {
          "iopub.execute_input": "2023-10-25T14:13:27.041331Z",
          "iopub.status.busy": "2023-10-25T14:13:27.040858Z",
          "iopub.status.idle": "2023-10-25T14:13:46.505860Z",
          "shell.execute_reply": "2023-10-25T14:13:46.504977Z",
          "shell.execute_reply.started": "2023-10-25T14:13:27.041289Z"
        },
        "scrolled": false,
        "id": "60mwMVV1VVJ9"
      },
      "outputs": [],
      "source": [
        "df = pd.read_csv('hospital-inpatient-discharges-sparcs-de-identified-2010-1.csv')"
      ]
    },
    {
      "cell_type": "code",
      "execution_count": 3,
      "metadata": {
        "execution": {
          "iopub.execute_input": "2023-10-25T14:13:46.508060Z",
          "iopub.status.busy": "2023-10-25T14:13:46.507612Z",
          "iopub.status.idle": "2023-10-25T14:13:46.544085Z",
          "shell.execute_reply": "2023-10-25T14:13:46.542901Z",
          "shell.execute_reply.started": "2023-10-25T14:13:46.508017Z"
        },
        "colab": {
          "base_uri": "https://localhost:8080/",
          "height": 556
        },
        "id": "b3EZ0KrZVVJ-",
        "outputId": "c1479cbf-cfd8-4adb-9e48-b2e9726be21c"
      },
      "outputs": [
        {
          "output_type": "execute_result",
          "data": {
            "text/plain": [
              "   index Health Service Area Hospital County  Operating Certificate Number  \\\n",
              "0      0      Capital/Adiron          Albany                      101000.0   \n",
              "1      1      Capital/Adiron          Albany                      101000.0   \n",
              "2      2      Capital/Adiron          Albany                      101000.0   \n",
              "3      3      Capital/Adiron          Albany                      101000.0   \n",
              "4      4      Capital/Adiron          Albany                      101000.0   \n",
              "\n",
              "   Facility ID                   Facility Name    Age Group  \\\n",
              "0          1.0  Albany Medical Center Hospital     18 to 29   \n",
              "1          1.0  Albany Medical Center Hospital     50 to 69   \n",
              "2          1.0  Albany Medical Center Hospital  70 or Older   \n",
              "3          1.0  Albany Medical Center Hospital  70 or Older   \n",
              "4          1.0  Albany Medical Center Hospital  70 or Older   \n",
              "\n",
              "   Zip Code - 3 digits Gender   Race          Ethnicity Length of Stay  \\\n",
              "0                  NaN      F  White  Not Span/Hispanic              1   \n",
              "1                  NaN      M  White  Not Span/Hispanic             15   \n",
              "2                  NaN      M  White  Not Span/Hispanic              3   \n",
              "3                  NaN      F  White  Not Span/Hispanic              5   \n",
              "4                  NaN      F  White  Not Span/Hispanic              4   \n",
              "\n",
              "  Type of Admission                Patient Disposition  Discharge Year  \\\n",
              "0         Emergency                  Home or Self Care            2010   \n",
              "1         Emergency       Home w/ Home Health Services            2010   \n",
              "2         Emergency       Home w/ Home Health Services            2010   \n",
              "3          Elective       Home w/ Home Health Services            2010   \n",
              "4          Elective  Inpatient Rehabilitation Facility            2010   \n",
              "\n",
              "   CCS Diagnosis Code CCS Diagnosis Description  CCS Procedure Code  \\\n",
              "0               135.0      INTESTINAL INFECTION                 0.0   \n",
              "1               231.0            OTHER FRACTURE                61.0   \n",
              "2                42.0      SECONDARY MALIGNANCY                 0.0   \n",
              "3               254.0   REHAB/PROSTH FIT/ADJUST               215.0   \n",
              "4               203.0            OSTEOARTHRITIS               153.0   \n",
              "\n",
              "  CCS Procedure Description  APR DRG Code  \\\n",
              "0                   NO PROC           249   \n",
              "1   OT OR PRCS VES NOT HEAD           912   \n",
              "2                   NO PROC           240   \n",
              "3        OT PHYS THER/REHAB           860   \n",
              "4   HIP REPLACEMENT,TOT/PRT           301   \n",
              "\n",
              "                                 APR DRG Description  APR MDC Code  \\\n",
              "0   NON-BACTERIAL GASTROENTERITIS, NAUSEA & VOMITING             6   \n",
              "1  MUSCULOSKELETAL & OTHER PROCEDURES FOR MULTIPL...            25   \n",
              "2                               DIGESTIVE MALIGNANCY             6   \n",
              "3                                     REHABILITATION            23   \n",
              "4                              HIP JOINT REPLACEMENT             8   \n",
              "\n",
              "                                 APR MDC Description  \\\n",
              "0     Diseases and Disorders of the Digestive System   \n",
              "1                        Multiple Significant Trauma   \n",
              "2     Diseases and Disorders of the Digestive System   \n",
              "3  Rehabilitation, Aftercare, Other Factors Influ...   \n",
              "4  Diseases and Disorders of the Musculoskeletal ...   \n",
              "\n",
              "   APR Severity of Illness Code APR Severity of Illness Description  \\\n",
              "0                             1                               Minor   \n",
              "1                             3                               Major   \n",
              "2                             3                               Major   \n",
              "3                             2                            Moderate   \n",
              "4                             1                               Minor   \n",
              "\n",
              "  APR Risk of Mortality APR Medical Surgical Description Source of Payment 1  \\\n",
              "0                 Minor                          Medical          Blue Cross   \n",
              "1               Extreme                         Surgical   Insurance Company   \n",
              "2                 Major                          Medical            Medicare   \n",
              "3                 Minor                          Medical            Medicare   \n",
              "4                 Minor                         Surgical            Medicare   \n",
              "\n",
              "  Source of Payment 2 Source of Payment 3  Attending Provider License Number  \\\n",
              "0            Self-Pay                 NaN                             3623.0   \n",
              "1            Medicare          Blue Cross                           216951.0   \n",
              "2          Blue Cross            Self-Pay                             3076.0   \n",
              "3   Insurance Company            Self-Pay                           140796.0   \n",
              "4   Insurance Company            Self-Pay                           170254.0   \n",
              "\n",
              "   Operating Provider License Number  Other Provider License Number  \\\n",
              "0                                NaN                            NaN   \n",
              "1                           216951.0                            NaN   \n",
              "2                                NaN                            NaN   \n",
              "3                           140796.0                       170254.0   \n",
              "4                           170254.0                       170254.0   \n",
              "\n",
              "   Birth Weight Abortion Edit Indicator Emergency Department Indicator  \\\n",
              "0             0                       N                              Y   \n",
              "1             0                       N                              Y   \n",
              "2             0                       N                              N   \n",
              "3             0                       N                              N   \n",
              "4             0                       N                              N   \n",
              "\n",
              "   Total Charges  Total Costs  \n",
              "0        4476.23      1672.65  \n",
              "1      148612.34     51414.70  \n",
              "2       16561.99      4032.49  \n",
              "3       13593.51      4947.81  \n",
              "4       31962.58     16988.33  "
            ],
            "text/html": [
              "\n",
              "  <div id=\"df-a9d377e3-7793-4e48-97e7-777f73e23dfd\" class=\"colab-df-container\">\n",
              "    <div>\n",
              "<style scoped>\n",
              "    .dataframe tbody tr th:only-of-type {\n",
              "        vertical-align: middle;\n",
              "    }\n",
              "\n",
              "    .dataframe tbody tr th {\n",
              "        vertical-align: top;\n",
              "    }\n",
              "\n",
              "    .dataframe thead th {\n",
              "        text-align: right;\n",
              "    }\n",
              "</style>\n",
              "<table border=\"1\" class=\"dataframe\">\n",
              "  <thead>\n",
              "    <tr style=\"text-align: right;\">\n",
              "      <th></th>\n",
              "      <th>index</th>\n",
              "      <th>Health Service Area</th>\n",
              "      <th>Hospital County</th>\n",
              "      <th>Operating Certificate Number</th>\n",
              "      <th>Facility ID</th>\n",
              "      <th>Facility Name</th>\n",
              "      <th>Age Group</th>\n",
              "      <th>Zip Code - 3 digits</th>\n",
              "      <th>Gender</th>\n",
              "      <th>Race</th>\n",
              "      <th>Ethnicity</th>\n",
              "      <th>Length of Stay</th>\n",
              "      <th>Type of Admission</th>\n",
              "      <th>Patient Disposition</th>\n",
              "      <th>Discharge Year</th>\n",
              "      <th>CCS Diagnosis Code</th>\n",
              "      <th>CCS Diagnosis Description</th>\n",
              "      <th>CCS Procedure Code</th>\n",
              "      <th>CCS Procedure Description</th>\n",
              "      <th>APR DRG Code</th>\n",
              "      <th>APR DRG Description</th>\n",
              "      <th>APR MDC Code</th>\n",
              "      <th>APR MDC Description</th>\n",
              "      <th>APR Severity of Illness Code</th>\n",
              "      <th>APR Severity of Illness Description</th>\n",
              "      <th>APR Risk of Mortality</th>\n",
              "      <th>APR Medical Surgical Description</th>\n",
              "      <th>Source of Payment 1</th>\n",
              "      <th>Source of Payment 2</th>\n",
              "      <th>Source of Payment 3</th>\n",
              "      <th>Attending Provider License Number</th>\n",
              "      <th>Operating Provider License Number</th>\n",
              "      <th>Other Provider License Number</th>\n",
              "      <th>Birth Weight</th>\n",
              "      <th>Abortion Edit Indicator</th>\n",
              "      <th>Emergency Department Indicator</th>\n",
              "      <th>Total Charges</th>\n",
              "      <th>Total Costs</th>\n",
              "    </tr>\n",
              "  </thead>\n",
              "  <tbody>\n",
              "    <tr>\n",
              "      <th>0</th>\n",
              "      <td>0</td>\n",
              "      <td>Capital/Adiron</td>\n",
              "      <td>Albany</td>\n",
              "      <td>101000.0</td>\n",
              "      <td>1.0</td>\n",
              "      <td>Albany Medical Center Hospital</td>\n",
              "      <td>18 to 29</td>\n",
              "      <td>NaN</td>\n",
              "      <td>F</td>\n",
              "      <td>White</td>\n",
              "      <td>Not Span/Hispanic</td>\n",
              "      <td>1</td>\n",
              "      <td>Emergency</td>\n",
              "      <td>Home or Self Care</td>\n",
              "      <td>2010</td>\n",
              "      <td>135.0</td>\n",
              "      <td>INTESTINAL INFECTION</td>\n",
              "      <td>0.0</td>\n",
              "      <td>NO PROC</td>\n",
              "      <td>249</td>\n",
              "      <td>NON-BACTERIAL GASTROENTERITIS, NAUSEA &amp; VOMITING</td>\n",
              "      <td>6</td>\n",
              "      <td>Diseases and Disorders of the Digestive System</td>\n",
              "      <td>1</td>\n",
              "      <td>Minor</td>\n",
              "      <td>Minor</td>\n",
              "      <td>Medical</td>\n",
              "      <td>Blue Cross</td>\n",
              "      <td>Self-Pay</td>\n",
              "      <td>NaN</td>\n",
              "      <td>3623.0</td>\n",
              "      <td>NaN</td>\n",
              "      <td>NaN</td>\n",
              "      <td>0</td>\n",
              "      <td>N</td>\n",
              "      <td>Y</td>\n",
              "      <td>4476.23</td>\n",
              "      <td>1672.65</td>\n",
              "    </tr>\n",
              "    <tr>\n",
              "      <th>1</th>\n",
              "      <td>1</td>\n",
              "      <td>Capital/Adiron</td>\n",
              "      <td>Albany</td>\n",
              "      <td>101000.0</td>\n",
              "      <td>1.0</td>\n",
              "      <td>Albany Medical Center Hospital</td>\n",
              "      <td>50 to 69</td>\n",
              "      <td>NaN</td>\n",
              "      <td>M</td>\n",
              "      <td>White</td>\n",
              "      <td>Not Span/Hispanic</td>\n",
              "      <td>15</td>\n",
              "      <td>Emergency</td>\n",
              "      <td>Home w/ Home Health Services</td>\n",
              "      <td>2010</td>\n",
              "      <td>231.0</td>\n",
              "      <td>OTHER FRACTURE</td>\n",
              "      <td>61.0</td>\n",
              "      <td>OT OR PRCS VES NOT HEAD</td>\n",
              "      <td>912</td>\n",
              "      <td>MUSCULOSKELETAL &amp; OTHER PROCEDURES FOR MULTIPL...</td>\n",
              "      <td>25</td>\n",
              "      <td>Multiple Significant Trauma</td>\n",
              "      <td>3</td>\n",
              "      <td>Major</td>\n",
              "      <td>Extreme</td>\n",
              "      <td>Surgical</td>\n",
              "      <td>Insurance Company</td>\n",
              "      <td>Medicare</td>\n",
              "      <td>Blue Cross</td>\n",
              "      <td>216951.0</td>\n",
              "      <td>216951.0</td>\n",
              "      <td>NaN</td>\n",
              "      <td>0</td>\n",
              "      <td>N</td>\n",
              "      <td>Y</td>\n",
              "      <td>148612.34</td>\n",
              "      <td>51414.70</td>\n",
              "    </tr>\n",
              "    <tr>\n",
              "      <th>2</th>\n",
              "      <td>2</td>\n",
              "      <td>Capital/Adiron</td>\n",
              "      <td>Albany</td>\n",
              "      <td>101000.0</td>\n",
              "      <td>1.0</td>\n",
              "      <td>Albany Medical Center Hospital</td>\n",
              "      <td>70 or Older</td>\n",
              "      <td>NaN</td>\n",
              "      <td>M</td>\n",
              "      <td>White</td>\n",
              "      <td>Not Span/Hispanic</td>\n",
              "      <td>3</td>\n",
              "      <td>Emergency</td>\n",
              "      <td>Home w/ Home Health Services</td>\n",
              "      <td>2010</td>\n",
              "      <td>42.0</td>\n",
              "      <td>SECONDARY MALIGNANCY</td>\n",
              "      <td>0.0</td>\n",
              "      <td>NO PROC</td>\n",
              "      <td>240</td>\n",
              "      <td>DIGESTIVE MALIGNANCY</td>\n",
              "      <td>6</td>\n",
              "      <td>Diseases and Disorders of the Digestive System</td>\n",
              "      <td>3</td>\n",
              "      <td>Major</td>\n",
              "      <td>Major</td>\n",
              "      <td>Medical</td>\n",
              "      <td>Medicare</td>\n",
              "      <td>Blue Cross</td>\n",
              "      <td>Self-Pay</td>\n",
              "      <td>3076.0</td>\n",
              "      <td>NaN</td>\n",
              "      <td>NaN</td>\n",
              "      <td>0</td>\n",
              "      <td>N</td>\n",
              "      <td>N</td>\n",
              "      <td>16561.99</td>\n",
              "      <td>4032.49</td>\n",
              "    </tr>\n",
              "    <tr>\n",
              "      <th>3</th>\n",
              "      <td>3</td>\n",
              "      <td>Capital/Adiron</td>\n",
              "      <td>Albany</td>\n",
              "      <td>101000.0</td>\n",
              "      <td>1.0</td>\n",
              "      <td>Albany Medical Center Hospital</td>\n",
              "      <td>70 or Older</td>\n",
              "      <td>NaN</td>\n",
              "      <td>F</td>\n",
              "      <td>White</td>\n",
              "      <td>Not Span/Hispanic</td>\n",
              "      <td>5</td>\n",
              "      <td>Elective</td>\n",
              "      <td>Home w/ Home Health Services</td>\n",
              "      <td>2010</td>\n",
              "      <td>254.0</td>\n",
              "      <td>REHAB/PROSTH FIT/ADJUST</td>\n",
              "      <td>215.0</td>\n",
              "      <td>OT PHYS THER/REHAB</td>\n",
              "      <td>860</td>\n",
              "      <td>REHABILITATION</td>\n",
              "      <td>23</td>\n",
              "      <td>Rehabilitation, Aftercare, Other Factors Influ...</td>\n",
              "      <td>2</td>\n",
              "      <td>Moderate</td>\n",
              "      <td>Minor</td>\n",
              "      <td>Medical</td>\n",
              "      <td>Medicare</td>\n",
              "      <td>Insurance Company</td>\n",
              "      <td>Self-Pay</td>\n",
              "      <td>140796.0</td>\n",
              "      <td>140796.0</td>\n",
              "      <td>170254.0</td>\n",
              "      <td>0</td>\n",
              "      <td>N</td>\n",
              "      <td>N</td>\n",
              "      <td>13593.51</td>\n",
              "      <td>4947.81</td>\n",
              "    </tr>\n",
              "    <tr>\n",
              "      <th>4</th>\n",
              "      <td>4</td>\n",
              "      <td>Capital/Adiron</td>\n",
              "      <td>Albany</td>\n",
              "      <td>101000.0</td>\n",
              "      <td>1.0</td>\n",
              "      <td>Albany Medical Center Hospital</td>\n",
              "      <td>70 or Older</td>\n",
              "      <td>NaN</td>\n",
              "      <td>F</td>\n",
              "      <td>White</td>\n",
              "      <td>Not Span/Hispanic</td>\n",
              "      <td>4</td>\n",
              "      <td>Elective</td>\n",
              "      <td>Inpatient Rehabilitation Facility</td>\n",
              "      <td>2010</td>\n",
              "      <td>203.0</td>\n",
              "      <td>OSTEOARTHRITIS</td>\n",
              "      <td>153.0</td>\n",
              "      <td>HIP REPLACEMENT,TOT/PRT</td>\n",
              "      <td>301</td>\n",
              "      <td>HIP JOINT REPLACEMENT</td>\n",
              "      <td>8</td>\n",
              "      <td>Diseases and Disorders of the Musculoskeletal ...</td>\n",
              "      <td>1</td>\n",
              "      <td>Minor</td>\n",
              "      <td>Minor</td>\n",
              "      <td>Surgical</td>\n",
              "      <td>Medicare</td>\n",
              "      <td>Insurance Company</td>\n",
              "      <td>Self-Pay</td>\n",
              "      <td>170254.0</td>\n",
              "      <td>170254.0</td>\n",
              "      <td>170254.0</td>\n",
              "      <td>0</td>\n",
              "      <td>N</td>\n",
              "      <td>N</td>\n",
              "      <td>31962.58</td>\n",
              "      <td>16988.33</td>\n",
              "    </tr>\n",
              "  </tbody>\n",
              "</table>\n",
              "</div>\n",
              "    <div class=\"colab-df-buttons\">\n",
              "\n",
              "  <div class=\"colab-df-container\">\n",
              "    <button class=\"colab-df-convert\" onclick=\"convertToInteractive('df-a9d377e3-7793-4e48-97e7-777f73e23dfd')\"\n",
              "            title=\"Convert this dataframe to an interactive table.\"\n",
              "            style=\"display:none;\">\n",
              "\n",
              "  <svg xmlns=\"http://www.w3.org/2000/svg\" height=\"24px\" viewBox=\"0 -960 960 960\">\n",
              "    <path d=\"M120-120v-720h720v720H120Zm60-500h600v-160H180v160Zm220 220h160v-160H400v160Zm0 220h160v-160H400v160ZM180-400h160v-160H180v160Zm440 0h160v-160H620v160ZM180-180h160v-160H180v160Zm440 0h160v-160H620v160Z\"/>\n",
              "  </svg>\n",
              "    </button>\n",
              "\n",
              "  <style>\n",
              "    .colab-df-container {\n",
              "      display:flex;\n",
              "      gap: 12px;\n",
              "    }\n",
              "\n",
              "    .colab-df-convert {\n",
              "      background-color: #E8F0FE;\n",
              "      border: none;\n",
              "      border-radius: 50%;\n",
              "      cursor: pointer;\n",
              "      display: none;\n",
              "      fill: #1967D2;\n",
              "      height: 32px;\n",
              "      padding: 0 0 0 0;\n",
              "      width: 32px;\n",
              "    }\n",
              "\n",
              "    .colab-df-convert:hover {\n",
              "      background-color: #E2EBFA;\n",
              "      box-shadow: 0px 1px 2px rgba(60, 64, 67, 0.3), 0px 1px 3px 1px rgba(60, 64, 67, 0.15);\n",
              "      fill: #174EA6;\n",
              "    }\n",
              "\n",
              "    .colab-df-buttons div {\n",
              "      margin-bottom: 4px;\n",
              "    }\n",
              "\n",
              "    [theme=dark] .colab-df-convert {\n",
              "      background-color: #3B4455;\n",
              "      fill: #D2E3FC;\n",
              "    }\n",
              "\n",
              "    [theme=dark] .colab-df-convert:hover {\n",
              "      background-color: #434B5C;\n",
              "      box-shadow: 0px 1px 3px 1px rgba(0, 0, 0, 0.15);\n",
              "      filter: drop-shadow(0px 1px 2px rgba(0, 0, 0, 0.3));\n",
              "      fill: #FFFFFF;\n",
              "    }\n",
              "  </style>\n",
              "\n",
              "    <script>\n",
              "      const buttonEl =\n",
              "        document.querySelector('#df-a9d377e3-7793-4e48-97e7-777f73e23dfd button.colab-df-convert');\n",
              "      buttonEl.style.display =\n",
              "        google.colab.kernel.accessAllowed ? 'block' : 'none';\n",
              "\n",
              "      async function convertToInteractive(key) {\n",
              "        const element = document.querySelector('#df-a9d377e3-7793-4e48-97e7-777f73e23dfd');\n",
              "        const dataTable =\n",
              "          await google.colab.kernel.invokeFunction('convertToInteractive',\n",
              "                                                    [key], {});\n",
              "        if (!dataTable) return;\n",
              "\n",
              "        const docLinkHtml = 'Like what you see? Visit the ' +\n",
              "          '<a target=\"_blank\" href=https://colab.research.google.com/notebooks/data_table.ipynb>data table notebook</a>'\n",
              "          + ' to learn more about interactive tables.';\n",
              "        element.innerHTML = '';\n",
              "        dataTable['output_type'] = 'display_data';\n",
              "        await google.colab.output.renderOutput(dataTable, element);\n",
              "        const docLink = document.createElement('div');\n",
              "        docLink.innerHTML = docLinkHtml;\n",
              "        element.appendChild(docLink);\n",
              "      }\n",
              "    </script>\n",
              "  </div>\n",
              "\n",
              "\n",
              "<div id=\"df-1451162c-d81f-4f68-82de-4c9ead589fb1\">\n",
              "  <button class=\"colab-df-quickchart\" onclick=\"quickchart('df-1451162c-d81f-4f68-82de-4c9ead589fb1')\"\n",
              "            title=\"Suggest charts.\"\n",
              "            style=\"display:none;\">\n",
              "\n",
              "<svg xmlns=\"http://www.w3.org/2000/svg\" height=\"24px\"viewBox=\"0 0 24 24\"\n",
              "     width=\"24px\">\n",
              "    <g>\n",
              "        <path d=\"M19 3H5c-1.1 0-2 .9-2 2v14c0 1.1.9 2 2 2h14c1.1 0 2-.9 2-2V5c0-1.1-.9-2-2-2zM9 17H7v-7h2v7zm4 0h-2V7h2v10zm4 0h-2v-4h2v4z\"/>\n",
              "    </g>\n",
              "</svg>\n",
              "  </button>\n",
              "\n",
              "<style>\n",
              "  .colab-df-quickchart {\n",
              "      --bg-color: #E8F0FE;\n",
              "      --fill-color: #1967D2;\n",
              "      --hover-bg-color: #E2EBFA;\n",
              "      --hover-fill-color: #174EA6;\n",
              "      --disabled-fill-color: #AAA;\n",
              "      --disabled-bg-color: #DDD;\n",
              "  }\n",
              "\n",
              "  [theme=dark] .colab-df-quickchart {\n",
              "      --bg-color: #3B4455;\n",
              "      --fill-color: #D2E3FC;\n",
              "      --hover-bg-color: #434B5C;\n",
              "      --hover-fill-color: #FFFFFF;\n",
              "      --disabled-bg-color: #3B4455;\n",
              "      --disabled-fill-color: #666;\n",
              "  }\n",
              "\n",
              "  .colab-df-quickchart {\n",
              "    background-color: var(--bg-color);\n",
              "    border: none;\n",
              "    border-radius: 50%;\n",
              "    cursor: pointer;\n",
              "    display: none;\n",
              "    fill: var(--fill-color);\n",
              "    height: 32px;\n",
              "    padding: 0;\n",
              "    width: 32px;\n",
              "  }\n",
              "\n",
              "  .colab-df-quickchart:hover {\n",
              "    background-color: var(--hover-bg-color);\n",
              "    box-shadow: 0 1px 2px rgba(60, 64, 67, 0.3), 0 1px 3px 1px rgba(60, 64, 67, 0.15);\n",
              "    fill: var(--button-hover-fill-color);\n",
              "  }\n",
              "\n",
              "  .colab-df-quickchart-complete:disabled,\n",
              "  .colab-df-quickchart-complete:disabled:hover {\n",
              "    background-color: var(--disabled-bg-color);\n",
              "    fill: var(--disabled-fill-color);\n",
              "    box-shadow: none;\n",
              "  }\n",
              "\n",
              "  .colab-df-spinner {\n",
              "    border: 2px solid var(--fill-color);\n",
              "    border-color: transparent;\n",
              "    border-bottom-color: var(--fill-color);\n",
              "    animation:\n",
              "      spin 1s steps(1) infinite;\n",
              "  }\n",
              "\n",
              "  @keyframes spin {\n",
              "    0% {\n",
              "      border-color: transparent;\n",
              "      border-bottom-color: var(--fill-color);\n",
              "      border-left-color: var(--fill-color);\n",
              "    }\n",
              "    20% {\n",
              "      border-color: transparent;\n",
              "      border-left-color: var(--fill-color);\n",
              "      border-top-color: var(--fill-color);\n",
              "    }\n",
              "    30% {\n",
              "      border-color: transparent;\n",
              "      border-left-color: var(--fill-color);\n",
              "      border-top-color: var(--fill-color);\n",
              "      border-right-color: var(--fill-color);\n",
              "    }\n",
              "    40% {\n",
              "      border-color: transparent;\n",
              "      border-right-color: var(--fill-color);\n",
              "      border-top-color: var(--fill-color);\n",
              "    }\n",
              "    60% {\n",
              "      border-color: transparent;\n",
              "      border-right-color: var(--fill-color);\n",
              "    }\n",
              "    80% {\n",
              "      border-color: transparent;\n",
              "      border-right-color: var(--fill-color);\n",
              "      border-bottom-color: var(--fill-color);\n",
              "    }\n",
              "    90% {\n",
              "      border-color: transparent;\n",
              "      border-bottom-color: var(--fill-color);\n",
              "    }\n",
              "  }\n",
              "</style>\n",
              "\n",
              "  <script>\n",
              "    async function quickchart(key) {\n",
              "      const quickchartButtonEl =\n",
              "        document.querySelector('#' + key + ' button');\n",
              "      quickchartButtonEl.disabled = true;  // To prevent multiple clicks.\n",
              "      quickchartButtonEl.classList.add('colab-df-spinner');\n",
              "      try {\n",
              "        const charts = await google.colab.kernel.invokeFunction(\n",
              "            'suggestCharts', [key], {});\n",
              "      } catch (error) {\n",
              "        console.error('Error during call to suggestCharts:', error);\n",
              "      }\n",
              "      quickchartButtonEl.classList.remove('colab-df-spinner');\n",
              "      quickchartButtonEl.classList.add('colab-df-quickchart-complete');\n",
              "    }\n",
              "    (() => {\n",
              "      let quickchartButtonEl =\n",
              "        document.querySelector('#df-1451162c-d81f-4f68-82de-4c9ead589fb1 button');\n",
              "      quickchartButtonEl.style.display =\n",
              "        google.colab.kernel.accessAllowed ? 'block' : 'none';\n",
              "    })();\n",
              "  </script>\n",
              "</div>\n",
              "    </div>\n",
              "  </div>\n"
            ]
          },
          "metadata": {},
          "execution_count": 3
        }
      ],
      "source": [
        "pd.set_option('display.max_columns', None)\n",
        "df.head()"
      ]
    },
    {
      "cell_type": "code",
      "execution_count": 4,
      "metadata": {
        "execution": {
          "iopub.execute_input": "2023-10-25T14:23:10.575103Z",
          "iopub.status.busy": "2023-10-25T14:23:10.574811Z",
          "iopub.status.idle": "2023-10-25T14:23:10.583342Z",
          "shell.execute_reply": "2023-10-25T14:23:10.582039Z",
          "shell.execute_reply.started": "2023-10-25T14:23:10.575078Z"
        },
        "colab": {
          "base_uri": "https://localhost:8080/"
        },
        "id": "D9QP6g4bVVKA",
        "outputId": "3859bda7-ce55-450d-8aa6-05da12db7968"
      },
      "outputs": [
        {
          "output_type": "execute_result",
          "data": {
            "text/plain": [
              "(21379, 38)"
            ]
          },
          "metadata": {},
          "execution_count": 4
        }
      ],
      "source": [
        "df.shape"
      ]
    },
    {
      "cell_type": "code",
      "execution_count": 5,
      "metadata": {
        "execution": {
          "iopub.execute_input": "2023-10-25T14:13:46.545779Z",
          "iopub.status.busy": "2023-10-25T14:13:46.545366Z",
          "iopub.status.idle": "2023-10-25T14:13:46.554478Z",
          "shell.execute_reply": "2023-10-25T14:13:46.553337Z",
          "shell.execute_reply.started": "2023-10-25T14:13:46.545730Z"
        },
        "colab": {
          "base_uri": "https://localhost:8080/"
        },
        "id": "iXO--YGGVVKC",
        "outputId": "ee10e1d9-38d8-4e3f-d504-c23dc2d7c0bc"
      },
      "outputs": [
        {
          "output_type": "execute_result",
          "data": {
            "text/plain": [
              "['index',\n",
              " 'Health Service Area',\n",
              " 'Hospital County',\n",
              " 'Operating Certificate Number',\n",
              " 'Facility ID',\n",
              " 'Facility Name',\n",
              " 'Age Group',\n",
              " 'Zip Code - 3 digits',\n",
              " 'Gender',\n",
              " 'Race',\n",
              " 'Ethnicity',\n",
              " 'Length of Stay',\n",
              " 'Type of Admission',\n",
              " 'Patient Disposition',\n",
              " 'Discharge Year',\n",
              " 'CCS Diagnosis Code',\n",
              " 'CCS Diagnosis Description',\n",
              " 'CCS Procedure Code',\n",
              " 'CCS Procedure Description',\n",
              " 'APR DRG Code',\n",
              " 'APR DRG Description',\n",
              " 'APR MDC Code',\n",
              " 'APR MDC Description',\n",
              " 'APR Severity of Illness Code',\n",
              " 'APR Severity of Illness Description',\n",
              " 'APR Risk of Mortality',\n",
              " 'APR Medical Surgical Description',\n",
              " 'Source of Payment 1',\n",
              " 'Source of Payment 2',\n",
              " 'Source of Payment 3',\n",
              " 'Attending Provider License Number',\n",
              " 'Operating Provider License Number',\n",
              " 'Other Provider License Number',\n",
              " 'Birth Weight',\n",
              " 'Abortion Edit Indicator',\n",
              " 'Emergency Department Indicator',\n",
              " 'Total Charges',\n",
              " 'Total Costs']"
            ]
          },
          "metadata": {},
          "execution_count": 5
        }
      ],
      "source": [
        "df.columns.to_list()"
      ]
    },
    {
      "cell_type": "code",
      "execution_count": 6,
      "metadata": {
        "execution": {
          "iopub.execute_input": "2023-10-25T14:14:49.494880Z",
          "iopub.status.busy": "2023-10-25T14:14:49.494498Z",
          "iopub.status.idle": "2023-10-25T14:14:52.124443Z",
          "shell.execute_reply": "2023-10-25T14:14:52.123304Z",
          "shell.execute_reply.started": "2023-10-25T14:14:49.494847Z"
        },
        "colab": {
          "base_uri": "https://localhost:8080/"
        },
        "id": "Awm7XLN6VVKC",
        "outputId": "738d1b10-6729-4d97-a128-f906da7d776a"
      },
      "outputs": [
        {
          "output_type": "execute_result",
          "data": {
            "text/plain": [
              "index                                      0\n",
              "Health Service Area                        0\n",
              "Hospital County                            0\n",
              "Operating Certificate Number               0\n",
              "Facility ID                                0\n",
              "Facility Name                              0\n",
              "Age Group                                  0\n",
              "Zip Code - 3 digits                        5\n",
              "Gender                                     0\n",
              "Race                                       0\n",
              "Ethnicity                                  0\n",
              "Length of Stay                             0\n",
              "Type of Admission                          0\n",
              "Patient Disposition                        0\n",
              "Discharge Year                             0\n",
              "CCS Diagnosis Code                       243\n",
              "CCS Diagnosis Description                243\n",
              "CCS Procedure Code                       243\n",
              "CCS Procedure Description                243\n",
              "APR DRG Code                               0\n",
              "APR DRG Description                        0\n",
              "APR MDC Code                               0\n",
              "APR MDC Description                        0\n",
              "APR Severity of Illness Code               0\n",
              "APR Severity of Illness Description        1\n",
              "APR Risk of Mortality                      1\n",
              "APR Medical Surgical Description           0\n",
              "Source of Payment 1                        0\n",
              "Source of Payment 2                        2\n",
              "Source of Payment 3                    10604\n",
              "Attending Provider License Number          0\n",
              "Operating Provider License Number       7897\n",
              "Other Provider License Number          14363\n",
              "Birth Weight                               0\n",
              "Abortion Edit Indicator                    0\n",
              "Emergency Department Indicator             0\n",
              "Total Charges                              0\n",
              "Total Costs                                0\n",
              "dtype: int64"
            ]
          },
          "metadata": {},
          "execution_count": 6
        }
      ],
      "source": [
        "df.isnull().sum()"
      ]
    },
    {
      "cell_type": "code",
      "execution_count": 7,
      "metadata": {
        "execution": {
          "iopub.execute_input": "2023-10-25T14:29:39.450432Z",
          "iopub.status.busy": "2023-10-25T14:29:39.450005Z",
          "iopub.status.idle": "2023-10-25T14:29:39.598932Z",
          "shell.execute_reply": "2023-10-25T14:29:39.597862Z",
          "shell.execute_reply.started": "2023-10-25T14:29:39.450397Z"
        },
        "scrolled": true,
        "colab": {
          "base_uri": "https://localhost:8080/"
        },
        "id": "1Zd1qDLBVVKC",
        "outputId": "dfa46a42-ddfe-47db-81c5-dabfd10999da"
      },
      "outputs": [
        {
          "output_type": "execute_result",
          "data": {
            "text/plain": [
              "N    11087\n",
              "Y    10292\n",
              "Name: Emergency Department Indicator, dtype: int64"
            ]
          },
          "metadata": {},
          "execution_count": 7
        }
      ],
      "source": [
        "df['Emergency Department Indicator'].value_counts()"
      ]
    },
    {
      "cell_type": "markdown",
      "metadata": {
        "id": "AQwwDb2SVVKD"
      },
      "source": [
        "## Checking mapping of some columns with disease type"
      ]
    },
    {
      "cell_type": "code",
      "execution_count": 8,
      "metadata": {
        "colab": {
          "base_uri": "https://localhost:8080/"
        },
        "id": "au2wQMsPVVKE",
        "outputId": "d86a5852-8794-430e-a6d3-1ce5d5a542a7"
      },
      "outputs": [
        {
          "output_type": "stream",
          "name": "stdout",
          "text": [
            "260\n"
          ]
        }
      ],
      "source": [
        "filtered_data = df[df['Emergency Department Indicator'] == 'Y']\n",
        "\n",
        "# Get unique values of 'APR DRG CODE' from the filtered data\n",
        "unique_apr_drg_codes = filtered_data['APR DRG Code'].unique()\n",
        "\n",
        "print(len(unique_apr_drg_codes))"
      ]
    },
    {
      "cell_type": "code",
      "execution_count": 9,
      "metadata": {
        "colab": {
          "base_uri": "https://localhost:8080/"
        },
        "id": "MUdIvoDiVVKE",
        "outputId": "6ac627a8-b627-41f1-a923-5a09d428d026"
      },
      "outputs": [
        {
          "output_type": "stream",
          "name": "stdout",
          "text": [
            "298\n"
          ]
        }
      ],
      "source": [
        "filtered_data = df[df['Emergency Department Indicator'] == 'N']\n",
        "\n",
        "# Get unique values of 'APR DRG CODE' from the filtered data\n",
        "unique_apr_drg_codes = filtered_data['APR DRG Code'].unique()\n",
        "\n",
        "print(len(unique_apr_drg_codes))"
      ]
    },
    {
      "cell_type": "code",
      "execution_count": 10,
      "metadata": {
        "colab": {
          "base_uri": "https://localhost:8080/"
        },
        "id": "hbTKyqj4VVKF",
        "outputId": "063a9cad-6072-41be-f7ca-53f43e7e2143"
      },
      "outputs": [
        {
          "output_type": "execute_result",
          "data": {
            "text/plain": [
              "304"
            ]
          },
          "metadata": {},
          "execution_count": 10
        }
      ],
      "source": [
        "len(df['APR DRG Code'].unique())"
      ]
    },
    {
      "cell_type": "code",
      "execution_count": 11,
      "metadata": {
        "colab": {
          "base_uri": "https://localhost:8080/"
        },
        "id": "aA0EBf3NVVKF",
        "outputId": "6bd71841-1d27-4710-9a02-0dd3a2be4575"
      },
      "outputs": [
        {
          "output_type": "stream",
          "name": "stdout",
          "text": [
            "APR Risk of Mortality\n",
            "Extreme     [912, 44, 136, 589, 55, 347, 174, 816, 21, 952...\n",
            "Major       [240, 5, 4, 343, 663, 951, 308, 191, 165, 661,...\n",
            "Minor       [249, 860, 301, 930, 812, 342, 227, 754, 56, 7...\n",
            "Moderate    [912, 173, 711, 55, 425, 161, 139, 207, 5, 54,...\n",
            "Name: APR DRG Code, dtype: object\n"
          ]
        }
      ],
      "source": [
        "unique_apr_drg_codes_by_risk = df.groupby('APR Risk of Mortality')['APR DRG Code'].unique()\n",
        "\n",
        "print(unique_apr_drg_codes_by_risk)"
      ]
    },
    {
      "cell_type": "code",
      "execution_count": 12,
      "metadata": {
        "scrolled": true,
        "colab": {
          "base_uri": "https://localhost:8080/"
        },
        "id": "9ml3LXLMVVKG",
        "outputId": "933a80fc-f6fa-46db-d0e0-648905a81943"
      },
      "outputs": [
        {
          "output_type": "stream",
          "name": "stdout",
          "text": [
            "174\n",
            "234\n",
            "285\n",
            "274\n"
          ]
        }
      ],
      "source": [
        "for i in unique_apr_drg_codes_by_risk:\n",
        "    print(f\"{len(i)}\")"
      ]
    },
    {
      "cell_type": "markdown",
      "metadata": {
        "id": "_xzlK1Z4VVKG"
      },
      "source": [
        "Now we know that risk of mortality is not strictly determine by type of disease"
      ]
    },
    {
      "cell_type": "markdown",
      "metadata": {
        "id": "VfVhCSlRVVKG"
      },
      "source": [
        "## Dropping columns and null values"
      ]
    },
    {
      "cell_type": "code",
      "execution_count": 13,
      "metadata": {
        "colab": {
          "base_uri": "https://localhost:8080/",
          "height": 372
        },
        "id": "cHduguBVVVKH",
        "outputId": "64f386bb-5bc3-4424-b359-588a63c95ad0"
      },
      "outputs": [
        {
          "output_type": "execute_result",
          "data": {
            "text/plain": [
              "              index  Operating Certificate Number  Facility ID  \\\n",
              "count  21379.000000                       21379.0      21379.0   \n",
              "mean   10689.000000                      101000.0          1.0   \n",
              "std     6171.730038                           0.0          0.0   \n",
              "min        0.000000                      101000.0          1.0   \n",
              "25%     5344.500000                      101000.0          1.0   \n",
              "50%    10689.000000                      101000.0          1.0   \n",
              "75%    16033.500000                      101000.0          1.0   \n",
              "max    21378.000000                      101000.0          1.0   \n",
              "\n",
              "       Zip Code - 3 digits  Discharge Year  CCS Diagnosis Code  \\\n",
              "count         21374.000000         21379.0        21136.000000   \n",
              "mean            120.859081          2010.0          174.571300   \n",
              "std               1.590154             0.0          120.685661   \n",
              "min             100.000000          2010.0            1.000000   \n",
              "25%             120.000000          2010.0          106.000000   \n",
              "50%             121.000000          2010.0          157.000000   \n",
              "75%             122.000000          2010.0          218.000000   \n",
              "max             123.000000          2010.0          670.000000   \n",
              "\n",
              "       CCS Procedure Code  APR DRG Code  APR MDC Code  \\\n",
              "count        21136.000000  21379.000000  21379.000000   \n",
              "mean            74.635929    373.957435      9.334908   \n",
              "std             77.706345    242.745193      5.959573   \n",
              "min              0.000000      4.000000      0.000000   \n",
              "25%              0.000000    174.000000      5.000000   \n",
              "50%             54.000000    310.000000      8.000000   \n",
              "75%            137.000000    560.000000     14.000000   \n",
              "max            231.000000    956.000000     25.000000   \n",
              "\n",
              "       APR Severity of Illness Code  Attending Provider License Number  \\\n",
              "count                  21379.000000                       21379.000000   \n",
              "mean                       2.054072                      195328.194116   \n",
              "std                        0.914522                       59030.540647   \n",
              "min                        0.000000                        2733.000000   \n",
              "25%                        1.000000                      169766.000000   \n",
              "50%                        2.000000                      210898.000000   \n",
              "75%                        3.000000                      237382.000000   \n",
              "max                        4.000000                      259085.000000   \n",
              "\n",
              "       Operating Provider License Number  Other Provider License Number  \\\n",
              "count                       1.348200e+04                   7.016000e+03   \n",
              "mean                        2.711644e+05                   8.121235e+05   \n",
              "std                         2.548756e+06                   6.797795e+06   \n",
              "min                         2.733000e+03                   4.630000e+02   \n",
              "25%                         1.626900e+05                   1.495510e+05   \n",
              "50%                         1.991580e+05                   1.822020e+05   \n",
              "75%                         2.287440e+05                   2.169510e+05   \n",
              "max                         9.052736e+07                   9.042875e+07   \n",
              "\n",
              "       Birth Weight  Total Charges    Total Costs  \n",
              "count  21379.000000   2.137900e+04   21379.000000  \n",
              "mean     279.676318   3.538869e+04   12456.009997  \n",
              "std      944.127686   5.805325e+04   19740.026164  \n",
              "min        0.000000   1.250000e+02      20.810000  \n",
              "25%        0.000000   1.057924e+04    3577.755000  \n",
              "50%        0.000000   1.945739e+04    6584.090000  \n",
              "75%        0.000000   3.736032e+04   13848.285000  \n",
              "max     9900.000000   1.293466e+06  418013.490000  "
            ],
            "text/html": [
              "\n",
              "  <div id=\"df-0ddb9f16-d10f-4578-8005-a581c0ee2347\" class=\"colab-df-container\">\n",
              "    <div>\n",
              "<style scoped>\n",
              "    .dataframe tbody tr th:only-of-type {\n",
              "        vertical-align: middle;\n",
              "    }\n",
              "\n",
              "    .dataframe tbody tr th {\n",
              "        vertical-align: top;\n",
              "    }\n",
              "\n",
              "    .dataframe thead th {\n",
              "        text-align: right;\n",
              "    }\n",
              "</style>\n",
              "<table border=\"1\" class=\"dataframe\">\n",
              "  <thead>\n",
              "    <tr style=\"text-align: right;\">\n",
              "      <th></th>\n",
              "      <th>index</th>\n",
              "      <th>Operating Certificate Number</th>\n",
              "      <th>Facility ID</th>\n",
              "      <th>Zip Code - 3 digits</th>\n",
              "      <th>Discharge Year</th>\n",
              "      <th>CCS Diagnosis Code</th>\n",
              "      <th>CCS Procedure Code</th>\n",
              "      <th>APR DRG Code</th>\n",
              "      <th>APR MDC Code</th>\n",
              "      <th>APR Severity of Illness Code</th>\n",
              "      <th>Attending Provider License Number</th>\n",
              "      <th>Operating Provider License Number</th>\n",
              "      <th>Other Provider License Number</th>\n",
              "      <th>Birth Weight</th>\n",
              "      <th>Total Charges</th>\n",
              "      <th>Total Costs</th>\n",
              "    </tr>\n",
              "  </thead>\n",
              "  <tbody>\n",
              "    <tr>\n",
              "      <th>count</th>\n",
              "      <td>21379.000000</td>\n",
              "      <td>21379.0</td>\n",
              "      <td>21379.0</td>\n",
              "      <td>21374.000000</td>\n",
              "      <td>21379.0</td>\n",
              "      <td>21136.000000</td>\n",
              "      <td>21136.000000</td>\n",
              "      <td>21379.000000</td>\n",
              "      <td>21379.000000</td>\n",
              "      <td>21379.000000</td>\n",
              "      <td>21379.000000</td>\n",
              "      <td>1.348200e+04</td>\n",
              "      <td>7.016000e+03</td>\n",
              "      <td>21379.000000</td>\n",
              "      <td>2.137900e+04</td>\n",
              "      <td>21379.000000</td>\n",
              "    </tr>\n",
              "    <tr>\n",
              "      <th>mean</th>\n",
              "      <td>10689.000000</td>\n",
              "      <td>101000.0</td>\n",
              "      <td>1.0</td>\n",
              "      <td>120.859081</td>\n",
              "      <td>2010.0</td>\n",
              "      <td>174.571300</td>\n",
              "      <td>74.635929</td>\n",
              "      <td>373.957435</td>\n",
              "      <td>9.334908</td>\n",
              "      <td>2.054072</td>\n",
              "      <td>195328.194116</td>\n",
              "      <td>2.711644e+05</td>\n",
              "      <td>8.121235e+05</td>\n",
              "      <td>279.676318</td>\n",
              "      <td>3.538869e+04</td>\n",
              "      <td>12456.009997</td>\n",
              "    </tr>\n",
              "    <tr>\n",
              "      <th>std</th>\n",
              "      <td>6171.730038</td>\n",
              "      <td>0.0</td>\n",
              "      <td>0.0</td>\n",
              "      <td>1.590154</td>\n",
              "      <td>0.0</td>\n",
              "      <td>120.685661</td>\n",
              "      <td>77.706345</td>\n",
              "      <td>242.745193</td>\n",
              "      <td>5.959573</td>\n",
              "      <td>0.914522</td>\n",
              "      <td>59030.540647</td>\n",
              "      <td>2.548756e+06</td>\n",
              "      <td>6.797795e+06</td>\n",
              "      <td>944.127686</td>\n",
              "      <td>5.805325e+04</td>\n",
              "      <td>19740.026164</td>\n",
              "    </tr>\n",
              "    <tr>\n",
              "      <th>min</th>\n",
              "      <td>0.000000</td>\n",
              "      <td>101000.0</td>\n",
              "      <td>1.0</td>\n",
              "      <td>100.000000</td>\n",
              "      <td>2010.0</td>\n",
              "      <td>1.000000</td>\n",
              "      <td>0.000000</td>\n",
              "      <td>4.000000</td>\n",
              "      <td>0.000000</td>\n",
              "      <td>0.000000</td>\n",
              "      <td>2733.000000</td>\n",
              "      <td>2.733000e+03</td>\n",
              "      <td>4.630000e+02</td>\n",
              "      <td>0.000000</td>\n",
              "      <td>1.250000e+02</td>\n",
              "      <td>20.810000</td>\n",
              "    </tr>\n",
              "    <tr>\n",
              "      <th>25%</th>\n",
              "      <td>5344.500000</td>\n",
              "      <td>101000.0</td>\n",
              "      <td>1.0</td>\n",
              "      <td>120.000000</td>\n",
              "      <td>2010.0</td>\n",
              "      <td>106.000000</td>\n",
              "      <td>0.000000</td>\n",
              "      <td>174.000000</td>\n",
              "      <td>5.000000</td>\n",
              "      <td>1.000000</td>\n",
              "      <td>169766.000000</td>\n",
              "      <td>1.626900e+05</td>\n",
              "      <td>1.495510e+05</td>\n",
              "      <td>0.000000</td>\n",
              "      <td>1.057924e+04</td>\n",
              "      <td>3577.755000</td>\n",
              "    </tr>\n",
              "    <tr>\n",
              "      <th>50%</th>\n",
              "      <td>10689.000000</td>\n",
              "      <td>101000.0</td>\n",
              "      <td>1.0</td>\n",
              "      <td>121.000000</td>\n",
              "      <td>2010.0</td>\n",
              "      <td>157.000000</td>\n",
              "      <td>54.000000</td>\n",
              "      <td>310.000000</td>\n",
              "      <td>8.000000</td>\n",
              "      <td>2.000000</td>\n",
              "      <td>210898.000000</td>\n",
              "      <td>1.991580e+05</td>\n",
              "      <td>1.822020e+05</td>\n",
              "      <td>0.000000</td>\n",
              "      <td>1.945739e+04</td>\n",
              "      <td>6584.090000</td>\n",
              "    </tr>\n",
              "    <tr>\n",
              "      <th>75%</th>\n",
              "      <td>16033.500000</td>\n",
              "      <td>101000.0</td>\n",
              "      <td>1.0</td>\n",
              "      <td>122.000000</td>\n",
              "      <td>2010.0</td>\n",
              "      <td>218.000000</td>\n",
              "      <td>137.000000</td>\n",
              "      <td>560.000000</td>\n",
              "      <td>14.000000</td>\n",
              "      <td>3.000000</td>\n",
              "      <td>237382.000000</td>\n",
              "      <td>2.287440e+05</td>\n",
              "      <td>2.169510e+05</td>\n",
              "      <td>0.000000</td>\n",
              "      <td>3.736032e+04</td>\n",
              "      <td>13848.285000</td>\n",
              "    </tr>\n",
              "    <tr>\n",
              "      <th>max</th>\n",
              "      <td>21378.000000</td>\n",
              "      <td>101000.0</td>\n",
              "      <td>1.0</td>\n",
              "      <td>123.000000</td>\n",
              "      <td>2010.0</td>\n",
              "      <td>670.000000</td>\n",
              "      <td>231.000000</td>\n",
              "      <td>956.000000</td>\n",
              "      <td>25.000000</td>\n",
              "      <td>4.000000</td>\n",
              "      <td>259085.000000</td>\n",
              "      <td>9.052736e+07</td>\n",
              "      <td>9.042875e+07</td>\n",
              "      <td>9900.000000</td>\n",
              "      <td>1.293466e+06</td>\n",
              "      <td>418013.490000</td>\n",
              "    </tr>\n",
              "  </tbody>\n",
              "</table>\n",
              "</div>\n",
              "    <div class=\"colab-df-buttons\">\n",
              "\n",
              "  <div class=\"colab-df-container\">\n",
              "    <button class=\"colab-df-convert\" onclick=\"convertToInteractive('df-0ddb9f16-d10f-4578-8005-a581c0ee2347')\"\n",
              "            title=\"Convert this dataframe to an interactive table.\"\n",
              "            style=\"display:none;\">\n",
              "\n",
              "  <svg xmlns=\"http://www.w3.org/2000/svg\" height=\"24px\" viewBox=\"0 -960 960 960\">\n",
              "    <path d=\"M120-120v-720h720v720H120Zm60-500h600v-160H180v160Zm220 220h160v-160H400v160Zm0 220h160v-160H400v160ZM180-400h160v-160H180v160Zm440 0h160v-160H620v160ZM180-180h160v-160H180v160Zm440 0h160v-160H620v160Z\"/>\n",
              "  </svg>\n",
              "    </button>\n",
              "\n",
              "  <style>\n",
              "    .colab-df-container {\n",
              "      display:flex;\n",
              "      gap: 12px;\n",
              "    }\n",
              "\n",
              "    .colab-df-convert {\n",
              "      background-color: #E8F0FE;\n",
              "      border: none;\n",
              "      border-radius: 50%;\n",
              "      cursor: pointer;\n",
              "      display: none;\n",
              "      fill: #1967D2;\n",
              "      height: 32px;\n",
              "      padding: 0 0 0 0;\n",
              "      width: 32px;\n",
              "    }\n",
              "\n",
              "    .colab-df-convert:hover {\n",
              "      background-color: #E2EBFA;\n",
              "      box-shadow: 0px 1px 2px rgba(60, 64, 67, 0.3), 0px 1px 3px 1px rgba(60, 64, 67, 0.15);\n",
              "      fill: #174EA6;\n",
              "    }\n",
              "\n",
              "    .colab-df-buttons div {\n",
              "      margin-bottom: 4px;\n",
              "    }\n",
              "\n",
              "    [theme=dark] .colab-df-convert {\n",
              "      background-color: #3B4455;\n",
              "      fill: #D2E3FC;\n",
              "    }\n",
              "\n",
              "    [theme=dark] .colab-df-convert:hover {\n",
              "      background-color: #434B5C;\n",
              "      box-shadow: 0px 1px 3px 1px rgba(0, 0, 0, 0.15);\n",
              "      filter: drop-shadow(0px 1px 2px rgba(0, 0, 0, 0.3));\n",
              "      fill: #FFFFFF;\n",
              "    }\n",
              "  </style>\n",
              "\n",
              "    <script>\n",
              "      const buttonEl =\n",
              "        document.querySelector('#df-0ddb9f16-d10f-4578-8005-a581c0ee2347 button.colab-df-convert');\n",
              "      buttonEl.style.display =\n",
              "        google.colab.kernel.accessAllowed ? 'block' : 'none';\n",
              "\n",
              "      async function convertToInteractive(key) {\n",
              "        const element = document.querySelector('#df-0ddb9f16-d10f-4578-8005-a581c0ee2347');\n",
              "        const dataTable =\n",
              "          await google.colab.kernel.invokeFunction('convertToInteractive',\n",
              "                                                    [key], {});\n",
              "        if (!dataTable) return;\n",
              "\n",
              "        const docLinkHtml = 'Like what you see? Visit the ' +\n",
              "          '<a target=\"_blank\" href=https://colab.research.google.com/notebooks/data_table.ipynb>data table notebook</a>'\n",
              "          + ' to learn more about interactive tables.';\n",
              "        element.innerHTML = '';\n",
              "        dataTable['output_type'] = 'display_data';\n",
              "        await google.colab.output.renderOutput(dataTable, element);\n",
              "        const docLink = document.createElement('div');\n",
              "        docLink.innerHTML = docLinkHtml;\n",
              "        element.appendChild(docLink);\n",
              "      }\n",
              "    </script>\n",
              "  </div>\n",
              "\n",
              "\n",
              "<div id=\"df-b581b3ff-53b8-491c-afe1-be3745500106\">\n",
              "  <button class=\"colab-df-quickchart\" onclick=\"quickchart('df-b581b3ff-53b8-491c-afe1-be3745500106')\"\n",
              "            title=\"Suggest charts.\"\n",
              "            style=\"display:none;\">\n",
              "\n",
              "<svg xmlns=\"http://www.w3.org/2000/svg\" height=\"24px\"viewBox=\"0 0 24 24\"\n",
              "     width=\"24px\">\n",
              "    <g>\n",
              "        <path d=\"M19 3H5c-1.1 0-2 .9-2 2v14c0 1.1.9 2 2 2h14c1.1 0 2-.9 2-2V5c0-1.1-.9-2-2-2zM9 17H7v-7h2v7zm4 0h-2V7h2v10zm4 0h-2v-4h2v4z\"/>\n",
              "    </g>\n",
              "</svg>\n",
              "  </button>\n",
              "\n",
              "<style>\n",
              "  .colab-df-quickchart {\n",
              "      --bg-color: #E8F0FE;\n",
              "      --fill-color: #1967D2;\n",
              "      --hover-bg-color: #E2EBFA;\n",
              "      --hover-fill-color: #174EA6;\n",
              "      --disabled-fill-color: #AAA;\n",
              "      --disabled-bg-color: #DDD;\n",
              "  }\n",
              "\n",
              "  [theme=dark] .colab-df-quickchart {\n",
              "      --bg-color: #3B4455;\n",
              "      --fill-color: #D2E3FC;\n",
              "      --hover-bg-color: #434B5C;\n",
              "      --hover-fill-color: #FFFFFF;\n",
              "      --disabled-bg-color: #3B4455;\n",
              "      --disabled-fill-color: #666;\n",
              "  }\n",
              "\n",
              "  .colab-df-quickchart {\n",
              "    background-color: var(--bg-color);\n",
              "    border: none;\n",
              "    border-radius: 50%;\n",
              "    cursor: pointer;\n",
              "    display: none;\n",
              "    fill: var(--fill-color);\n",
              "    height: 32px;\n",
              "    padding: 0;\n",
              "    width: 32px;\n",
              "  }\n",
              "\n",
              "  .colab-df-quickchart:hover {\n",
              "    background-color: var(--hover-bg-color);\n",
              "    box-shadow: 0 1px 2px rgba(60, 64, 67, 0.3), 0 1px 3px 1px rgba(60, 64, 67, 0.15);\n",
              "    fill: var(--button-hover-fill-color);\n",
              "  }\n",
              "\n",
              "  .colab-df-quickchart-complete:disabled,\n",
              "  .colab-df-quickchart-complete:disabled:hover {\n",
              "    background-color: var(--disabled-bg-color);\n",
              "    fill: var(--disabled-fill-color);\n",
              "    box-shadow: none;\n",
              "  }\n",
              "\n",
              "  .colab-df-spinner {\n",
              "    border: 2px solid var(--fill-color);\n",
              "    border-color: transparent;\n",
              "    border-bottom-color: var(--fill-color);\n",
              "    animation:\n",
              "      spin 1s steps(1) infinite;\n",
              "  }\n",
              "\n",
              "  @keyframes spin {\n",
              "    0% {\n",
              "      border-color: transparent;\n",
              "      border-bottom-color: var(--fill-color);\n",
              "      border-left-color: var(--fill-color);\n",
              "    }\n",
              "    20% {\n",
              "      border-color: transparent;\n",
              "      border-left-color: var(--fill-color);\n",
              "      border-top-color: var(--fill-color);\n",
              "    }\n",
              "    30% {\n",
              "      border-color: transparent;\n",
              "      border-left-color: var(--fill-color);\n",
              "      border-top-color: var(--fill-color);\n",
              "      border-right-color: var(--fill-color);\n",
              "    }\n",
              "    40% {\n",
              "      border-color: transparent;\n",
              "      border-right-color: var(--fill-color);\n",
              "      border-top-color: var(--fill-color);\n",
              "    }\n",
              "    60% {\n",
              "      border-color: transparent;\n",
              "      border-right-color: var(--fill-color);\n",
              "    }\n",
              "    80% {\n",
              "      border-color: transparent;\n",
              "      border-right-color: var(--fill-color);\n",
              "      border-bottom-color: var(--fill-color);\n",
              "    }\n",
              "    90% {\n",
              "      border-color: transparent;\n",
              "      border-bottom-color: var(--fill-color);\n",
              "    }\n",
              "  }\n",
              "</style>\n",
              "\n",
              "  <script>\n",
              "    async function quickchart(key) {\n",
              "      const quickchartButtonEl =\n",
              "        document.querySelector('#' + key + ' button');\n",
              "      quickchartButtonEl.disabled = true;  // To prevent multiple clicks.\n",
              "      quickchartButtonEl.classList.add('colab-df-spinner');\n",
              "      try {\n",
              "        const charts = await google.colab.kernel.invokeFunction(\n",
              "            'suggestCharts', [key], {});\n",
              "      } catch (error) {\n",
              "        console.error('Error during call to suggestCharts:', error);\n",
              "      }\n",
              "      quickchartButtonEl.classList.remove('colab-df-spinner');\n",
              "      quickchartButtonEl.classList.add('colab-df-quickchart-complete');\n",
              "    }\n",
              "    (() => {\n",
              "      let quickchartButtonEl =\n",
              "        document.querySelector('#df-b581b3ff-53b8-491c-afe1-be3745500106 button');\n",
              "      quickchartButtonEl.style.display =\n",
              "        google.colab.kernel.accessAllowed ? 'block' : 'none';\n",
              "    })();\n",
              "  </script>\n",
              "</div>\n",
              "    </div>\n",
              "  </div>\n"
            ]
          },
          "metadata": {},
          "execution_count": 13
        }
      ],
      "source": [
        "df.describe()"
      ]
    },
    {
      "cell_type": "markdown",
      "metadata": {
        "id": "3_8BAHPYVVKH"
      },
      "source": [
        "removing useless columns, removing discharge year as it is mostly 2010, removing some descriptive columns whose codes are available, removing columns with very large number of null values"
      ]
    },
    {
      "cell_type": "code",
      "execution_count": 14,
      "metadata": {
        "id": "SjRKMGaBVVKH"
      },
      "outputs": [],
      "source": [
        "columns_to_drop = ['index','Discharge Year', 'CCS Diagnosis Description', 'CCS Procedure Description','APR DRG Description','APR MDC Description','APR Severity of Illness Description','Source of Payment 3','Other Provider License Number','Source of Payment 2','Operating Provider License Number','Facility Name']\n",
        "\n",
        "new_df = df.drop(columns=columns_to_drop, axis=1)"
      ]
    },
    {
      "cell_type": "code",
      "execution_count": 15,
      "metadata": {
        "colab": {
          "base_uri": "https://localhost:8080/"
        },
        "id": "Jls0FDeGVVKH",
        "outputId": "c89ac2bf-3d28-4de7-9428-02ead5786d07"
      },
      "outputs": [
        {
          "output_type": "execute_result",
          "data": {
            "text/plain": [
              "(['Health Service Area',\n",
              "  'Hospital County',\n",
              "  'Operating Certificate Number',\n",
              "  'Facility ID',\n",
              "  'Age Group',\n",
              "  'Zip Code - 3 digits',\n",
              "  'Gender',\n",
              "  'Race',\n",
              "  'Ethnicity',\n",
              "  'Length of Stay',\n",
              "  'Type of Admission',\n",
              "  'Patient Disposition',\n",
              "  'CCS Diagnosis Code',\n",
              "  'CCS Procedure Code',\n",
              "  'APR DRG Code',\n",
              "  'APR MDC Code',\n",
              "  'APR Severity of Illness Code',\n",
              "  'APR Risk of Mortality',\n",
              "  'APR Medical Surgical Description',\n",
              "  'Source of Payment 1',\n",
              "  'Attending Provider License Number',\n",
              "  'Birth Weight',\n",
              "  'Abortion Edit Indicator',\n",
              "  'Emergency Department Indicator',\n",
              "  'Total Charges',\n",
              "  'Total Costs'],\n",
              " 26)"
            ]
          },
          "metadata": {},
          "execution_count": 15
        }
      ],
      "source": [
        "new_df.columns.to_list(), len(new_df.columns)"
      ]
    },
    {
      "cell_type": "code",
      "execution_count": 16,
      "metadata": {
        "colab": {
          "base_uri": "https://localhost:8080/"
        },
        "id": "wnQSHQ2NVVKH",
        "outputId": "e7eac9a9-8259-4708-8e87-21c141fbc924"
      },
      "outputs": [
        {
          "output_type": "execute_result",
          "data": {
            "text/plain": [
              "0.9448272644657139"
            ]
          },
          "metadata": {},
          "execution_count": 16
        }
      ],
      "source": [
        "new_df['Total Costs'].corr(new_df['Total Charges'])"
      ]
    },
    {
      "cell_type": "markdown",
      "metadata": {
        "id": "bwZtDn3wVVKI"
      },
      "source": [
        "these columns are highly correlated , removing Total Charges column"
      ]
    },
    {
      "cell_type": "code",
      "execution_count": 17,
      "metadata": {
        "id": "4xa_w25MVVKI"
      },
      "outputs": [],
      "source": [
        "new_df = new_df.drop(columns=['Total Charges'], axis=1)"
      ]
    },
    {
      "cell_type": "markdown",
      "metadata": {
        "id": "I1Ls_oF1VVKI"
      },
      "source": [
        "Fixing zip code column"
      ]
    },
    {
      "cell_type": "code",
      "execution_count": 18,
      "metadata": {
        "colab": {
          "base_uri": "https://localhost:8080/"
        },
        "id": "-9I8S7k8VVKI",
        "outputId": "d230a3f0-c64f-401a-cdf8-842e8dafe1fd"
      },
      "outputs": [
        {
          "output_type": "execute_result",
          "data": {
            "text/plain": [
              "array([ nan, 100., 101., 103., 104., 105., 106., 107., 108., 109., 110.,\n",
              "       111., 112., 113., 114., 115., 116., 117., 118., 119., 120., 121.,\n",
              "       122., 123.])"
            ]
          },
          "metadata": {},
          "execution_count": 18
        }
      ],
      "source": [
        "new_df['Zip Code - 3 digits'].unique()"
      ]
    },
    {
      "cell_type": "code",
      "execution_count": 19,
      "metadata": {
        "id": "JebheAuBVVKJ"
      },
      "outputs": [],
      "source": [
        "new_df[new_df['Zip Code - 3 digits'] == 'OOS'] = np.nan"
      ]
    },
    {
      "cell_type": "code",
      "execution_count": 20,
      "metadata": {
        "id": "f4iN_L9-VVKJ"
      },
      "outputs": [],
      "source": [
        "new_df['Zip Code - 3 digits'] = pd.to_numeric(new_df['Zip Code - 3 digits'], errors='ignore')"
      ]
    },
    {
      "cell_type": "code",
      "execution_count": 21,
      "metadata": {
        "colab": {
          "base_uri": "https://localhost:8080/"
        },
        "id": "erpzOKeUVVKJ",
        "outputId": "945652cf-2f2a-447f-b58c-7746061bf84d"
      },
      "outputs": [
        {
          "output_type": "execute_result",
          "data": {
            "text/plain": [
              "array([ nan, 100., 101., 103., 104., 105., 106., 107., 108., 109., 110.,\n",
              "       111., 112., 113., 114., 115., 116., 117., 118., 119., 120., 121.,\n",
              "       122., 123.])"
            ]
          },
          "metadata": {},
          "execution_count": 21
        }
      ],
      "source": [
        "new_df['Zip Code - 3 digits'].unique()"
      ]
    },
    {
      "cell_type": "code",
      "execution_count": 22,
      "metadata": {
        "colab": {
          "base_uri": "https://localhost:8080/"
        },
        "id": "GWaWUrjdVVKK",
        "outputId": "5f87d527-2962-4c2a-be5d-90f86ac3b965"
      },
      "outputs": [
        {
          "output_type": "execute_result",
          "data": {
            "text/plain": [
              "5"
            ]
          },
          "metadata": {},
          "execution_count": 22
        }
      ],
      "source": [
        "new_df['Zip Code - 3 digits'].isna().sum()"
      ]
    },
    {
      "cell_type": "code",
      "execution_count": 23,
      "metadata": {
        "colab": {
          "base_uri": "https://localhost:8080/"
        },
        "id": "Sv_chWVBVVKK",
        "outputId": "b1572bf8-1496-4d98-a99b-0f902f39e69a"
      },
      "outputs": [
        {
          "output_type": "execute_result",
          "data": {
            "text/plain": [
              "17"
            ]
          },
          "metadata": {},
          "execution_count": 23
        }
      ],
      "source": [
        "tempdf = new_df[new_df['Length of Stay'] == '120 +' ]\n",
        "len(tempdf)"
      ]
    },
    {
      "cell_type": "code",
      "execution_count": 24,
      "metadata": {
        "id": "MoMyNcBkVVKK"
      },
      "outputs": [],
      "source": [
        "new_df.loc[new_df['Length of Stay'] == '120 +', 'Length of Stay'] = 120"
      ]
    },
    {
      "cell_type": "code",
      "execution_count": 25,
      "metadata": {
        "id": "btkL4F6kVVKK"
      },
      "outputs": [],
      "source": [
        "new_df['Length of Stay'] = pd.to_numeric(new_df['Length of Stay'], errors='ignore')"
      ]
    },
    {
      "cell_type": "code",
      "execution_count": 26,
      "metadata": {
        "scrolled": true,
        "colab": {
          "base_uri": "https://localhost:8080/"
        },
        "id": "6QSaeVaVVVKK",
        "outputId": "b58a2122-7890-45a3-d131-efcd3babd46b"
      },
      "outputs": [
        {
          "output_type": "execute_result",
          "data": {
            "text/plain": [
              "array(['Capital/Adiron'], dtype=object)"
            ]
          },
          "metadata": {},
          "execution_count": 26
        }
      ],
      "source": [
        "new_df['Health Service Area'].unique()"
      ]
    },
    {
      "cell_type": "code",
      "execution_count": 27,
      "metadata": {
        "scrolled": true,
        "colab": {
          "base_uri": "https://localhost:8080/"
        },
        "id": "DMKOLUORVVKL",
        "outputId": "369aeb11-4860-48a7-d5cc-c7bb4c8abc1b"
      },
      "outputs": [
        {
          "output_type": "stream",
          "name": "stdout",
          "text": [
            "Zip Code - 3 digits\n",
            "100.0    [Capital/Adiron]\n",
            "101.0    [Capital/Adiron]\n",
            "103.0    [Capital/Adiron]\n",
            "104.0    [Capital/Adiron]\n",
            "105.0    [Capital/Adiron]\n",
            "106.0    [Capital/Adiron]\n",
            "107.0    [Capital/Adiron]\n",
            "108.0    [Capital/Adiron]\n",
            "109.0    [Capital/Adiron]\n",
            "110.0    [Capital/Adiron]\n",
            "111.0    [Capital/Adiron]\n",
            "112.0    [Capital/Adiron]\n",
            "113.0    [Capital/Adiron]\n",
            "114.0    [Capital/Adiron]\n",
            "115.0    [Capital/Adiron]\n",
            "116.0    [Capital/Adiron]\n",
            "117.0    [Capital/Adiron]\n",
            "118.0    [Capital/Adiron]\n",
            "119.0    [Capital/Adiron]\n",
            "120.0    [Capital/Adiron]\n",
            "121.0    [Capital/Adiron]\n",
            "122.0    [Capital/Adiron]\n",
            "123.0    [Capital/Adiron]\n",
            "Name: Health Service Area, dtype: object\n"
          ]
        }
      ],
      "source": [
        "unique_codes = new_df.groupby('Zip Code - 3 digits')['Health Service Area'].unique()\n",
        "\n",
        "print(unique_codes)"
      ]
    },
    {
      "cell_type": "code",
      "execution_count": 28,
      "metadata": {
        "colab": {
          "base_uri": "https://localhost:8080/"
        },
        "id": "zQPGC908VVKL",
        "outputId": "96697985-18b7-4463-9707-aecfbaa25add"
      },
      "outputs": [
        {
          "output_type": "execute_result",
          "data": {
            "text/plain": [
              "0"
            ]
          },
          "metadata": {},
          "execution_count": 28
        }
      ],
      "source": [
        "new_df['Hospital County'].isna().sum()"
      ]
    },
    {
      "cell_type": "markdown",
      "metadata": {
        "id": "t_HmoFMoVVKL"
      },
      "source": [
        "since we have zip codes we dont need health service area"
      ]
    },
    {
      "cell_type": "code",
      "execution_count": 29,
      "metadata": {
        "id": "iGSurg9XVVKL"
      },
      "outputs": [],
      "source": [
        "new_df = new_df.drop(columns=['Health Service Area'], axis=1)"
      ]
    },
    {
      "cell_type": "code",
      "execution_count": 30,
      "metadata": {
        "id": "G_fdNgukVVKM"
      },
      "outputs": [],
      "source": [
        "df2 = new_df[new_df['Hospital County'].isna()]"
      ]
    },
    {
      "cell_type": "code",
      "execution_count": 31,
      "metadata": {
        "colab": {
          "base_uri": "https://localhost:8080/"
        },
        "id": "YbqLr2MlVVKM",
        "outputId": "c9f73d48-38e3-4d1a-b951-68f6abc4eb4e"
      },
      "outputs": [
        {
          "output_type": "execute_result",
          "data": {
            "text/plain": [
              "(Series([], Name: Gender, dtype: int64),\n",
              " Series([], Name: Abortion Edit Indicator, dtype: int64),\n",
              " (0, 24))"
            ]
          },
          "metadata": {},
          "execution_count": 31
        }
      ],
      "source": [
        "df2['Gender'].value_counts(),df2['Abortion Edit Indicator'].value_counts(), df2.shape"
      ]
    },
    {
      "cell_type": "markdown",
      "metadata": {
        "id": "fa2PNhrRVVKN"
      },
      "source": [
        "removing rows that contain only NaN values"
      ]
    },
    {
      "cell_type": "code",
      "execution_count": 32,
      "metadata": {
        "id": "23ChauJmVVKY"
      },
      "outputs": [],
      "source": [
        "new_df = new_df.dropna(how='all')"
      ]
    },
    {
      "cell_type": "code",
      "execution_count": 33,
      "metadata": {
        "colab": {
          "base_uri": "https://localhost:8080/"
        },
        "id": "JXyWqjgvVVKY",
        "outputId": "0b377507-0e57-4bc8-9c1e-43d39c0587c8"
      },
      "outputs": [
        {
          "output_type": "execute_result",
          "data": {
            "text/plain": [
              "(21379, 24)"
            ]
          },
          "metadata": {},
          "execution_count": 33
        }
      ],
      "source": [
        "new_df.shape"
      ]
    },
    {
      "cell_type": "code",
      "execution_count": 34,
      "metadata": {
        "scrolled": false,
        "colab": {
          "base_uri": "https://localhost:8080/"
        },
        "id": "1bW5fjvcVVKY",
        "outputId": "32464a95-1478-4a59-d6a8-7ab3c5a3bbae"
      },
      "outputs": [
        {
          "output_type": "execute_result",
          "data": {
            "text/plain": [
              "Hospital County                        0\n",
              "Operating Certificate Number           0\n",
              "Facility ID                            0\n",
              "Age Group                              0\n",
              "Zip Code - 3 digits                    5\n",
              "Gender                                 0\n",
              "Race                                   0\n",
              "Ethnicity                              0\n",
              "Length of Stay                         0\n",
              "Type of Admission                      0\n",
              "Patient Disposition                    0\n",
              "CCS Diagnosis Code                   243\n",
              "CCS Procedure Code                   243\n",
              "APR DRG Code                           0\n",
              "APR MDC Code                           0\n",
              "APR Severity of Illness Code           0\n",
              "APR Risk of Mortality                  1\n",
              "APR Medical Surgical Description       0\n",
              "Source of Payment 1                    0\n",
              "Attending Provider License Number      0\n",
              "Birth Weight                           0\n",
              "Abortion Edit Indicator                0\n",
              "Emergency Department Indicator         0\n",
              "Total Costs                            0\n",
              "dtype: int64"
            ]
          },
          "metadata": {},
          "execution_count": 34
        }
      ],
      "source": [
        "new_df.isna().sum()"
      ]
    },
    {
      "cell_type": "code",
      "execution_count": 35,
      "metadata": {
        "id": "ORXBBX6mVVKZ"
      },
      "outputs": [],
      "source": [
        "df2 = new_df[new_df['Hospital County'].isna()]"
      ]
    },
    {
      "cell_type": "code",
      "execution_count": 36,
      "metadata": {
        "colab": {
          "base_uri": "https://localhost:8080/"
        },
        "id": "JhqtbiX_VVKZ",
        "outputId": "8302e892-e085-4b7f-beca-0f0ec6d680b7"
      },
      "outputs": [
        {
          "output_type": "execute_result",
          "data": {
            "text/plain": [
              "(Series([], Name: APR DRG Code, dtype: int64),\n",
              " Series([], Name: Gender, dtype: int64))"
            ]
          },
          "metadata": {},
          "execution_count": 36
        }
      ],
      "source": [
        "df2['APR DRG Code'].value_counts(), df2['Gender'].value_counts()"
      ]
    },
    {
      "cell_type": "code",
      "execution_count": 37,
      "metadata": {
        "colab": {
          "base_uri": "https://localhost:8080/"
        },
        "id": "So3CH_hBVVKZ",
        "outputId": "78ab4d4c-ae0c-40f9-ac11-6e80666dfed4"
      },
      "outputs": [
        {
          "output_type": "execute_result",
          "data": {
            "text/plain": [
              "Hospital County                      0.0\n",
              "Operating Certificate Number         0.0\n",
              "Facility ID                          0.0\n",
              "Age Group                            0.0\n",
              "Zip Code - 3 digits                  0.0\n",
              "Gender                               0.0\n",
              "Race                                 0.0\n",
              "Ethnicity                            0.0\n",
              "Length of Stay                       0.0\n",
              "Type of Admission                    0.0\n",
              "Patient Disposition                  0.0\n",
              "CCS Diagnosis Code                   0.0\n",
              "CCS Procedure Code                   0.0\n",
              "APR DRG Code                         0.0\n",
              "APR MDC Code                         0.0\n",
              "APR Severity of Illness Code         0.0\n",
              "APR Risk of Mortality                0.0\n",
              "APR Medical Surgical Description     0.0\n",
              "Source of Payment 1                  0.0\n",
              "Attending Provider License Number    0.0\n",
              "Birth Weight                         0.0\n",
              "Abortion Edit Indicator              0.0\n",
              "Emergency Department Indicator       0.0\n",
              "Total Costs                          0.0\n",
              "dtype: float64"
            ]
          },
          "metadata": {},
          "execution_count": 37
        }
      ],
      "source": [
        "df2.isna().sum()"
      ]
    },
    {
      "cell_type": "code",
      "execution_count": 38,
      "metadata": {
        "id": "FlAx0OeDVVKZ"
      },
      "outputs": [],
      "source": [
        "temp_df = new_df[new_df['Gender'] == 'F']"
      ]
    },
    {
      "cell_type": "code",
      "execution_count": 39,
      "metadata": {
        "id": "c9QdpfB4VVKZ"
      },
      "outputs": [],
      "source": [
        "cols = ['Hospital County','Operating Certificate Number','Facility ID','Attending Provider License Number']\n",
        "\n",
        "for col in cols:\n",
        "    new_df[col] = new_df[col].fillna(temp_df[col].mode()[0])"
      ]
    },
    {
      "cell_type": "code",
      "execution_count": 40,
      "metadata": {
        "id": "9UR3NFnuVVKZ"
      },
      "outputs": [],
      "source": [
        "cols = ['Zip Code - 3 digits','Patient Disposition','CCS Diagnosis Code','CCS Procedure Code','APR Risk of Mortality']\n",
        "for col in cols:\n",
        "    new_df[col] = new_df[col].fillna(new_df[col].mode()[0])"
      ]
    },
    {
      "cell_type": "code",
      "execution_count": 41,
      "metadata": {
        "colab": {
          "base_uri": "https://localhost:8080/"
        },
        "id": "GNiBgXrIVVKa",
        "outputId": "c1f4dc2f-6d3c-489d-bfe7-b0f02f5fc551"
      },
      "outputs": [
        {
          "output_type": "execute_result",
          "data": {
            "text/plain": [
              "(21379, 24)"
            ]
          },
          "metadata": {},
          "execution_count": 41
        }
      ],
      "source": [
        "new_df.shape"
      ]
    },
    {
      "cell_type": "markdown",
      "metadata": {
        "id": "eVOZ-pVzVVKa"
      },
      "source": [
        "removing outliers from Total costs column"
      ]
    },
    {
      "cell_type": "code",
      "execution_count": 42,
      "metadata": {
        "id": "50cyq4PsVVKa"
      },
      "outputs": [],
      "source": [
        "for i in range(4):\n",
        "    new_df = new_df.drop(new_df['Total Costs'].idxmax())"
      ]
    },
    {
      "cell_type": "code",
      "execution_count": 43,
      "metadata": {
        "colab": {
          "base_uri": "https://localhost:8080/"
        },
        "id": "4FXWR2DEVVKa",
        "outputId": "40428eb5-3231-4ba7-adc0-2f4de8bac946"
      },
      "outputs": [
        {
          "output_type": "execute_result",
          "data": {
            "text/plain": [
              "341413.08"
            ]
          },
          "metadata": {},
          "execution_count": 43
        }
      ],
      "source": [
        "new_df['Total Costs'].max()"
      ]
    },
    {
      "cell_type": "markdown",
      "metadata": {
        "id": "YUZ2F0LJVVKa"
      },
      "source": [
        "## Data Visualizations"
      ]
    },
    {
      "cell_type": "code",
      "execution_count": 44,
      "metadata": {
        "scrolled": false,
        "colab": {
          "base_uri": "https://localhost:8080/",
          "height": 452
        },
        "id": "n0YoHs9XVVKb",
        "outputId": "2ae2d9e6-6918-43e5-9b82-10f76265a5de"
      },
      "outputs": [
        {
          "output_type": "display_data",
          "data": {
            "text/plain": [
              "<Figure size 640x480 with 1 Axes>"
            ],
            "image/png": "[encoded data removed]"
          },
          "metadata": {}
        }
      ],
      "source": [
        "plt.boxplot(new_df['Total Costs'])#, showfliers = False)\n",
        "plt.title('Boxplot for Column A')\n",
        "plt.show()"
      ]
    },
    {
      "cell_type": "code",
      "source": [
        "plt.boxplot(new_df['Total Costs'], showfliers = False)\n",
        "plt.title('Boxplot for Column A')\n",
        "plt.show()"
      ],
      "metadata": {
        "colab": {
          "base_uri": "https://localhost:8080/",
          "height": 452
        },
        "id": "WYRtKSQeVwtY",
        "outputId": "37c39bff-f4b4-4f01-a9ea-07f40157cdb9"
      },
      "execution_count": 45,
      "outputs": [
        {
          "output_type": "display_data",
          "data": {
            "text/plain": [
              "<Figure size 640x480 with 1 Axes>"
            ],
            "image/png": "[encoded data removed]"
          },
          "metadata": {}
        }
      ]
    },
    {
      "cell_type": "code",
      "execution_count": 46,
      "metadata": {
        "colab": {
          "base_uri": "https://localhost:8080/",
          "height": 542
        },
        "id": "jfF9qB54VVKb",
        "outputId": "7541bdbc-fc75-47bc-f9ba-d9047b985618"
      },
      "outputs": [
        {
          "output_type": "display_data",
          "data": {
            "text/plain": [
              "<Figure size 2000x1000 with 8 Axes>"
            ],
            "image/png": "[encoded data removed]"
          },
          "metadata": {}
        }
      ],
      "source": [
        "fig, ax = plt.subplots(2, 4, figsize=(20, 10))\n",
        "\n",
        "for axid, col in enumerate(['Age Group','Gender','Race','Ethnicity','Type of Admission','Patient Disposition','Source of Payment 1','Emergency Department Indicator']):\n",
        "    col_dist = new_df[col].value_counts()\n",
        "    col_dist.plot(kind = 'pie',  ax=ax[int(axid/4), axid%4], labeldistance = 0.8)"
      ]
    },
    {
      "cell_type": "markdown",
      "metadata": {
        "id": "FdWzhhlMVVKb"
      },
      "source": [
        "## Scaling and encoding columns"
      ]
    },
    {
      "cell_type": "code",
      "execution_count": 47,
      "metadata": {
        "id": "sW1ZqMkmVVKc"
      },
      "outputs": [],
      "source": [
        "label_encoder = preprocessing.LabelEncoder()\n",
        "\n",
        "cols = ['Hospital County', 'Age Group','Gender', 'Race', 'Ethnicity','Type of Admission', 'Patient Disposition','APR Risk of Mortality',\n",
        "       'APR Medical Surgical Description', 'Source of Payment 1','Abortion Edit Indicator','Emergency Department Indicator']\n",
        "\n",
        "for col in cols:\n",
        "    new_df[col]= label_encoder.fit_transform(new_df[col])"
      ]
    },
    {
      "cell_type": "code",
      "execution_count": 48,
      "metadata": {
        "colab": {
          "base_uri": "https://localhost:8080/"
        },
        "id": "eOAWHv_KVVKc",
        "outputId": "e752c80e-c66b-40c1-a23a-ed48a82116c8"
      },
      "outputs": [
        {
          "output_type": "execute_result",
          "data": {
            "text/plain": [
              "Hospital County                        int64\n",
              "Operating Certificate Number         float64\n",
              "Facility ID                          float64\n",
              "Age Group                              int64\n",
              "Zip Code - 3 digits                  float64\n",
              "Gender                                 int64\n",
              "Race                                   int64\n",
              "Ethnicity                              int64\n",
              "Length of Stay                         int64\n",
              "Type of Admission                      int64\n",
              "Patient Disposition                    int64\n",
              "CCS Diagnosis Code                   float64\n",
              "CCS Procedure Code                   float64\n",
              "APR DRG Code                         float64\n",
              "APR MDC Code                         float64\n",
              "APR Severity of Illness Code         float64\n",
              "APR Risk of Mortality                  int64\n",
              "APR Medical Surgical Description       int64\n",
              "Source of Payment 1                    int64\n",
              "Attending Provider License Number    float64\n",
              "Birth Weight                         float64\n",
              "Abortion Edit Indicator                int64\n",
              "Emergency Department Indicator         int64\n",
              "Total Costs                          float64\n",
              "dtype: object"
            ]
          },
          "metadata": {},
          "execution_count": 48
        }
      ],
      "source": [
        "new_df.dtypes"
      ]
    },
    {
      "cell_type": "markdown",
      "metadata": {
        "id": "vaizjtn-VVKd"
      },
      "source": [
        "# Train test split and model training"
      ]
    },
    {
      "cell_type": "code",
      "execution_count": 71,
      "metadata": {
        "id": "ZzEXhgIrVVKd"
      },
      "outputs": [],
      "source": [
        "from sklearn.model_selection import train_test_split, cross_validate, cross_val_score, GridSearchCV\n",
        "from sklearn.linear_model import LogisticRegression\n",
        "from sklearn.metrics import accuracy_score, recall_score, precision_score, f1_score\n"
      ]
    },
    {
      "cell_type": "code",
      "execution_count": 50,
      "metadata": {
        "id": "Nuknl2ADVVKd"
      },
      "outputs": [],
      "source": [
        "data_df = new_df[['Hospital County', 'Operating Certificate Number', 'Facility ID',\n",
        "       'Age Group', 'Zip Code - 3 digits', 'Gender', 'Race', 'Ethnicity',\n",
        "       'Length of Stay', 'Type of Admission', 'Patient Disposition',\n",
        "       'CCS Diagnosis Code', 'CCS Procedure Code', 'APR DRG Code',\n",
        "       'APR MDC Code', 'APR Severity of Illness Code',\n",
        "       'APR Medical Surgical Description', 'Source of Payment 1',\n",
        "       'Attending Provider License Number', 'Birth Weight',\n",
        "       'Abortion Edit Indicator', 'Emergency Department Indicator',\n",
        "       'Total Costs']]"
      ]
    },
    {
      "cell_type": "code",
      "execution_count": 51,
      "metadata": {
        "id": "3k7w9ceaVVKe"
      },
      "outputs": [],
      "source": [
        "X_train, X_test, y_train, y_test = train_test_split(data_df, new_df['APR Risk of Mortality'], random_state=42, test_size=0.20)"
      ]
    },
    {
      "cell_type": "code",
      "execution_count": 52,
      "metadata": {
        "colab": {
          "base_uri": "https://localhost:8080/"
        },
        "id": "EfNxIsy0VVKe",
        "outputId": "503790c5-5dc6-45e1-cb61-a661ed46f48c"
      },
      "outputs": [
        {
          "output_type": "execute_result",
          "data": {
            "text/plain": [
              "((17100, 23), (4275, 23))"
            ]
          },
          "metadata": {},
          "execution_count": 52
        }
      ],
      "source": [
        "size_scaler = preprocessing.StandardScaler().fit(X_train)\n",
        "X_train_scaled = size_scaler.transform(X_train)\n",
        "X_test_scaled = size_scaler.transform(X_test)\n",
        "X_train_scaled.shape, X_test_scaled.shape"
      ]
    },
    {
      "cell_type": "code",
      "execution_count": 61,
      "metadata": {
        "id": "0ZIqg86kVVKe"
      },
      "outputs": [],
      "source": [
        "params_logistic = {\n",
        "                'multi_class': ['ovr', 'multinomial'],\n",
        "                'C':[0.1, 1, 1.5, 3, 10],\n",
        "                'penalty':[ 'l2'],\n",
        "                'solver':['lbfgs',  'newton-cg',  'sag', 'saga']\n",
        "\n",
        "             }"
      ]
    },
    {
      "cell_type": "code",
      "execution_count": 62,
      "metadata": {
        "colab": {
          "base_uri": "https://localhost:8080/",
          "height": 117
        },
        "id": "ypNyehH9VVKf",
        "outputId": "3209c46e-0175-455a-c731-7ff9bd8a9155"
      },
      "outputs": [
        {
          "output_type": "execute_result",
          "data": {
            "text/plain": [
              "GridSearchCV(cv=3, estimator=LogisticRegression(),\n",
              "             param_grid={'C': [0.1, 1, 1.5, 3, 10],\n",
              "                         'multi_class': ['ovr', 'multinomial'],\n",
              "                         'penalty': ['l2'],\n",
              "                         'solver': ['lbfgs', 'newton-cg', 'sag', 'saga']},\n",
              "             scoring='accuracy')"
            ],
            "text/html": [
              "<style>#sk-container-id-4 {color: black;background-color: white;}#sk-container-id-4 pre{padding: 0;}#sk-container-id-4 div.sk-toggleable {background-color: white;}#sk-container-id-4 label.sk-toggleable__label {cursor: pointer;display: block;width: 100%;margin-bottom: 0;padding: 0.3em;box-sizing: border-box;text-align: center;}#sk-container-id-4 label.sk-toggleable__label-arrow:before {content: \"▸\";float: left;margin-right: 0.25em;color: #696969;}#sk-container-id-4 label.sk-toggleable__label-arrow:hover:before {color: black;}#sk-container-id-4 div.sk-estimator:hover label.sk-toggleable__label-arrow:before {color: black;}#sk-container-id-4 div.sk-toggleable__content {max-height: 0;max-width: 0;overflow: hidden;text-align: left;background-color: #f0f8ff;}#sk-container-id-4 div.sk-toggleable__content pre {margin: 0.2em;color: black;border-radius: 0.25em;background-color: #f0f8ff;}#sk-container-id-4 input.sk-toggleable__control:checked~div.sk-toggleable__content {max-height: 200px;max-width: 100%;overflow: auto;}#sk-container-id-4 input.sk-toggleable__control:checked~label.sk-toggleable__label-arrow:before {content: \"▾\";}#sk-container-id-4 div.sk-estimator input.sk-toggleable__control:checked~label.sk-toggleable__label {background-color: #d4ebff;}#sk-container-id-4 div.sk-label input.sk-toggleable__control:checked~label.sk-toggleable__label {background-color: #d4ebff;}#sk-container-id-4 input.sk-hidden--visually {border: 0;clip: rect(1px 1px 1px 1px);clip: rect(1px, 1px, 1px, 1px);height: 1px;margin: -1px;overflow: hidden;padding: 0;position: absolute;width: 1px;}#sk-container-id-4 div.sk-estimator {font-family: monospace;background-color: #f0f8ff;border: 1px dotted black;border-radius: 0.25em;box-sizing: border-box;margin-bottom: 0.5em;}#sk-container-id-4 div.sk-estimator:hover {background-color: #d4ebff;}#sk-container-id-4 div.sk-parallel-item::after {content: \"\";width: 100%;border-bottom: 1px solid gray;flex-grow: 1;}#sk-container-id-4 div.sk-label:hover label.sk-toggleable__label {background-color: #d4ebff;}#sk-container-id-4 div.sk-serial::before {content: \"\";position: absolute;border-left: 1px solid gray;box-sizing: border-box;top: 0;bottom: 0;left: 50%;z-index: 0;}#sk-container-id-4 div.sk-serial {display: flex;flex-direction: column;align-items: center;background-color: white;padding-right: 0.2em;padding-left: 0.2em;position: relative;}#sk-container-id-4 div.sk-item {position: relative;z-index: 1;}#sk-container-id-4 div.sk-parallel {display: flex;align-items: stretch;justify-content: center;background-color: white;position: relative;}#sk-container-id-4 div.sk-item::before, #sk-container-id-4 div.sk-parallel-item::before {content: \"\";position: absolute;border-left: 1px solid gray;box-sizing: border-box;top: 0;bottom: 0;left: 50%;z-index: -1;}#sk-container-id-4 div.sk-parallel-item {display: flex;flex-direction: column;z-index: 1;position: relative;background-color: white;}#sk-container-id-4 div.sk-parallel-item:first-child::after {align-self: flex-end;width: 50%;}#sk-container-id-4 div.sk-parallel-item:last-child::after {align-self: flex-start;width: 50%;}#sk-container-id-4 div.sk-parallel-item:only-child::after {width: 0;}#sk-container-id-4 div.sk-dashed-wrapped {border: 1px dashed gray;margin: 0 0.4em 0.5em 0.4em;box-sizing: border-box;padding-bottom: 0.4em;background-color: white;}#sk-container-id-4 div.sk-label label {font-family: monospace;font-weight: bold;display: inline-block;line-height: 1.2em;}#sk-container-id-4 div.sk-label-container {text-align: center;}#sk-container-id-4 div.sk-container {/* jupyter's `normalize.less` sets `[hidden] { display: none; }` but bootstrap.min.css set `[hidden] { display: none !important; }` so we also need the `!important` here to be able to override the default hidden behavior on the sphinx rendered scikit-learn.org. See: https://github.com/scikit-learn/scikit-learn/issues/21755 */display: inline-block !important;position: relative;}#sk-container-id-4 div.sk-text-repr-fallback {display: none;}</style><div id=\"sk-container-id-4\" class=\"sk-top-container\"><div class=\"sk-text-repr-fallback\"><pre>GridSearchCV(cv=3, estimator=LogisticRegression(),\n",
              "             param_grid={&#x27;C&#x27;: [0.1, 1, 1.5, 3, 10],\n",
              "                         &#x27;multi_class&#x27;: [&#x27;ovr&#x27;, &#x27;multinomial&#x27;],\n",
              "                         &#x27;penalty&#x27;: [&#x27;l2&#x27;],\n",
              "                         &#x27;solver&#x27;: [&#x27;lbfgs&#x27;, &#x27;newton-cg&#x27;, &#x27;sag&#x27;, &#x27;saga&#x27;]},\n",
              "             scoring=&#x27;accuracy&#x27;)</pre><b>In a Jupyter environment, please rerun this cell to show the HTML representation or trust the notebook. <br />On GitHub, the HTML representation is unable to render, please try loading this page with nbviewer.org.</b></div><div class=\"sk-container\" hidden><div class=\"sk-item sk-dashed-wrapped\"><div class=\"sk-label-container\"><div class=\"sk-label sk-toggleable\"><input class=\"sk-toggleable__control sk-hidden--visually\" id=\"sk-estimator-id-10\" type=\"checkbox\" ><label for=\"sk-estimator-id-10\" class=\"sk-toggleable__label sk-toggleable__label-arrow\">GridSearchCV</label><div class=\"sk-toggleable__content\"><pre>GridSearchCV(cv=3, estimator=LogisticRegression(),\n",
              "             param_grid={&#x27;C&#x27;: [0.1, 1, 1.5, 3, 10],\n",
              "                         &#x27;multi_class&#x27;: [&#x27;ovr&#x27;, &#x27;multinomial&#x27;],\n",
              "                         &#x27;penalty&#x27;: [&#x27;l2&#x27;],\n",
              "                         &#x27;solver&#x27;: [&#x27;lbfgs&#x27;, &#x27;newton-cg&#x27;, &#x27;sag&#x27;, &#x27;saga&#x27;]},\n",
              "             scoring=&#x27;accuracy&#x27;)</pre></div></div></div><div class=\"sk-parallel\"><div class=\"sk-parallel-item\"><div class=\"sk-item\"><div class=\"sk-label-container\"><div class=\"sk-label sk-toggleable\"><input class=\"sk-toggleable__control sk-hidden--visually\" id=\"sk-estimator-id-11\" type=\"checkbox\" ><label for=\"sk-estimator-id-11\" class=\"sk-toggleable__label sk-toggleable__label-arrow\">estimator: LogisticRegression</label><div class=\"sk-toggleable__content\"><pre>LogisticRegression()</pre></div></div></div><div class=\"sk-serial\"><div class=\"sk-item\"><div class=\"sk-estimator sk-toggleable\"><input class=\"sk-toggleable__control sk-hidden--visually\" id=\"sk-estimator-id-12\" type=\"checkbox\" ><label for=\"sk-estimator-id-12\" class=\"sk-toggleable__label sk-toggleable__label-arrow\">LogisticRegression</label><div class=\"sk-toggleable__content\"><pre>LogisticRegression()</pre></div></div></div></div></div></div></div></div></div></div>"
            ]
          },
          "metadata": {},
          "execution_count": 62
        }
      ],
      "source": [
        "logistc_reg = GridSearchCV(estimator=LogisticRegression(), param_grid=params_logistic, scoring='accuracy', cv=3)\n",
        "logistc_reg.fit(X_train_scaled, y_train)\n",
        ""
      ]
    },
    {
      "cell_type": "code",
      "execution_count": 56,
      "metadata": {
        "colab": {
          "base_uri": "https://localhost:8080/"
        },
        "id": "KWDHzdhYVVKf",
        "outputId": "2ad2ab46-3ecb-4fac-fb9d-1e0e986df8fc"
      },
      "outputs": [
        {
          "output_type": "stream",
          "name": "stdout",
          "text": [
            "tuned hpyerparameters :(best parameters)  {'C': 3, 'multi_class': 'multinomial', 'penalty': 'l2', 'solver': 'sag'}\n",
            "best score : 0.7630994152046784\n"
          ]
        }
      ],
      "source": [
        "print(\"tuned hpyerparameters :(best parameters) \",logistc_reg.best_params_)\n",
        "print(\"best score :\",logistc_reg.best_score_)"
      ]
    },
    {
      "cell_type": "markdown",
      "source": [
        "## Evaluation metrics"
      ],
      "metadata": {
        "id": "g-HLpumEhobC"
      }
    },
    {
      "cell_type": "code",
      "execution_count": 68,
      "metadata": {
        "id": "VUgPo8VHVVKg"
      },
      "outputs": [],
      "source": [
        "y_pred = logistc_reg.predict(X_test_scaled )"
      ]
    },
    {
      "cell_type": "code",
      "source": [
        "print(f\"accuracy : {accuracy_score(y_test, y_pred)}\")\n",
        "print(f\"recall : {recall_score(y_test, y_pred, average='weighted')}\")\n",
        "print(f\"precision : {precision_score(y_test, y_pred, average='weighted')}\")\n",
        "print(f\"f1 score : {f1_score(y_test, y_pred, average='weighted')}\")\n"
      ],
      "metadata": {
        "colab": {
          "base_uri": "https://localhost:8080/"
        },
        "id": "8AX66kokaZgn",
        "outputId": "7dc44a78-546b-4bc2-d3e8-787f52fceb34"
      },
      "execution_count": 79,
      "outputs": [
        {
          "output_type": "stream",
          "name": "stdout",
          "text": [
            "accuracy : 0.7550877192982456\n",
            "recall : 0.7550877192982456\n",
            "precision : 0.7394302976245558\n",
            "f1 score : 0.7428160820172108\n"
          ]
        }
      ]
    }
  ],
  "metadata": {
    "kernelspec": {
      "display_name": "Python 3 (ipykernel)",
      "language": "python",
      "name": "python3"
    },
    "language_info": {
      "codemirror_mode": {
        "name": "ipython",
        "version": 3
      },
      "file_extension": ".py",
      "mimetype": "text/x-python",
      "name": "python",
      "nbconvert_exporter": "python",
      "pygments_lexer": "ipython3",
      "version": "3.10.4"
    },
    "colab": {
      "provenance": [],
      "include_colab_link": true
    }
  },
  "nbformat": 4,
  "nbformat_minor": 0
}